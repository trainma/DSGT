{
 "cells": [
  {
   "cell_type": "code",
   "execution_count": 7,
   "metadata": {
    "collapsed": true
   },
   "outputs": [],
   "source": [
    "# %%\n",
    "import matplotlib.pyplot as plt\n",
    "import numpy as np\n",
    "import pandas as pd\n",
    "import seaborn as sns\n",
    "\n"
   ]
  },
  {
   "cell_type": "code",
   "execution_count": 14,
   "metadata": {
    "collapsed": false
   },
   "outputs": [
    {
     "data": {
      "text/plain": "<Figure size 20000x10000 with 0 Axes>"
     },
     "metadata": {},
     "output_type": "display_data"
    },
    {
     "data": {
      "text/plain": "<Figure size 759.591x288 with 2 Axes>",
      "image/png": "[encoded data removed]"
     },
     "metadata": {},
     "output_type": "display_data"
    }
   ],
   "source": [
    "df = pd.read_excel('./metric.xlsx')\n",
    "df.head()\n",
    "# sns.set_context({'figure.figsize':[20, 20]})\n",
    "plt.style.use('seaborn')\n",
    "\n",
    "sns.set(\"paper\", font_scale=1.2)\n",
    "# plt.rcParams['font.sans-serif'] = ['Times New Roman']\n",
    "# plt.figure(figsize=(20, 10), dpi=1000)\n",
    "plt.figure(figsize = [20,10],dpi=1000)\n",
    "m = sns.catplot(x=\"Model\",\n",
    "                y=\"Value\",\n",
    "                hue=\"Metric\",\n",
    "                col=\"Time\",\n",
    "                data=df,\n",
    "                kind=\"bar\",\n",
    "                height=4,\n",
    "                aspect=1.2,\n",
    "                )\n",
    "# m.set_xticklabels(rotation=30)\n",
    "plt.savefig('./metric.svg', format='svg', dpi=1000)\n",
    "plt.show()"
   ]
  },
  {
   "cell_type": "code",
   "execution_count": null,
   "metadata": {
    "collapsed": false
   },
   "outputs": [],
   "source": []
  }
 ],
 "metadata": {
  "kernelspec": {
   "display_name": "Python 3.9.12 ('base')",
   "language": "python",
   "name": "python3"
  },
  "language_info": {
   "codemirror_mode": {
    "name": "ipython",
    "version": 3
   },
   "file_extension": ".py",
   "mimetype": "text/x-python",
   "name": "python",
   "nbconvert_exporter": "python",
   "pygments_lexer": "ipython3",
   "version": "3.9.12"
  },
  "vscode": {
   "interpreter": {
    "hash": "4f90aa362a5d1c98ba2cb40d4909fec7c56c3fbc8f3fc1d3b89bf882dad18a1e"
   }
  }
 },
 "nbformat": 4,
 "nbformat_minor": 0
}
